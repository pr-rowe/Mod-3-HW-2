{
 "cells": [
  {
   "cell_type": "code",
   "execution_count": 83,
   "metadata": {
    "deletable": false,
    "editable": false
   },
   "outputs": [],
   "source": [
    "# Initialize Otter\n",
    "import otter\n",
    "grader = otter.Notebook(\"Homework_02.ipynb\")"
   ]
  },
  {
   "cell_type": "markdown",
   "metadata": {},
   "source": [
    "# Homework 02:  Linear Regression in Theory and Practice\n",
    "\n",
    "In this homework, you will learn how to create and explore a simple, synthetic regression dataset using scikit‐learn’s `make_regression` function. We often use synthetic data to test out our modeling workflows, gain practical experience with various models, and observe how noise, training set size, and other factors affect model performance, as measured by the Mean Squared Error (MSE). By controlling the dataset generation, we can see precisely how well the model approximates the dataset parameters, and you’ll practice splitting data into training and testing sets to estimate how well the model will generalize to unseen data. This will give you insight into how regression models behave under different conditions (such as varying amounts of training data) and help you interpret outcomes with appropriate metrics. \n",
    "\n",
    "In some problems you will need to do a bit of research in `sklearn`'s documentation. The functions we are using are very common in ML, and it will be well worth the time you spend reading through the documentation and looking at the examples provided there. \n",
    "\n",
    "As I mentioned in the first Live Session, some things I will ask you do to are not graded; I expect you to do them just as thoroughly as the answers which will be graded.  To skip the non-graded parts\n",
    "and just focus on the graded portions will waste your time and money, and result in a less-than-expected return on both when you work on projects and proceed to later modules, and, eventually, to a career in data science. \n",
    "\n",
    "#### One more things before you start:  \n",
    "\n",
    "This is the last homework in which you will get instant feedback on all your solutions; since Gradescope is not set up for this, we have used the Otter auto-grader to allow immediate feedback in this notebook. After each cell in which you assign a value to a variable such as a1a etc. there is a cell which will check your solution. Therefore, you may test your solutions as much as you wish before submitting to Gradescope. Starting with HW 03, you will continue to have graded and ungraded problems, but you will not receive feedback on the graded parts until after the late submission period is over. "
   ]
  },
  {
   "cell_type": "code",
   "execution_count": null,
   "metadata": {},
   "outputs": [],
   "source": []
  },
  {
   "cell_type": "code",
   "execution_count": 84,
   "metadata": {},
   "outputs": [],
   "source": [
    "# Useful imports and utilities\n",
    "\n",
    "import numpy as np\n",
    "import pandas as pd\n",
    "import time\n",
    "import matplotlib.pyplot as plt\n",
    "import os\n",
    "import kagglehub\n",
    "import seaborn as sns\n",
    "\n",
    "from sklearn.linear_model import LinearRegression\n",
    "from sklearn.datasets import fetch_california_housing,make_regression\n",
    "from sklearn.metrics import mean_squared_error, mean_absolute_error, r2_score\n",
    "from sklearn.model_selection import train_test_split\n",
    "from tqdm import tqdm\n",
    "from math import isclose\n",
    "\n",
    "# globals\n",
    "\n",
    "random_state = 42\n"
   ]
  },
  {
   "cell_type": "markdown",
   "metadata": {},
   "source": [
    "## Problem One:  Generate and Display a Simple Univariant Regression Dataset\n",
    "\n",
    "In this first problem, we are going to experiment with `sklearn`'s `make_regression` function, which can generate synthetic datasets with various characteristics, including the number of samples, the standard deviation of the errors, and many, many others.   Oddly, it makes you choose the bias, but then it randomly chooses the other coefficients; it also does not allow you to specify the range of the features -- however, it would be easy to write your own version which does these things.\n",
    "\n",
    "\n",
    "Using `make_regression` is a commonly used to test out frameworks and investigate the properties of models; we'll use it again when we investigate feature selection strategies in Week 5.\n",
    "\n",
    "\n",
    "Before you start, read through the `sklearn` documentation on `make_regression`. \n",
    "\n"
   ]
  },
  {
   "cell_type": "markdown",
   "metadata": {},
   "source": [
    "### Part A\n",
    "\n",
    "Generate a univariate dataset $X, y$ using `make_regression` with\n",
    "   - 20 samples\n",
    "   - error standard deviation of 20 (called `noise` in the function)\n",
    "   - y-intercept of 0.5 (called `bias` in the function)\n",
    "   - `random_state = 42`\n",
    "   - `coef = True`  (this will return the coefficients of the underlying model)\n",
    "   \n",
    "This will return a tuple with 3 values (read the docs!). "
   ]
  },
  {
   "cell_type": "code",
   "execution_count": 85,
   "metadata": {
    "tags": []
   },
   "outputs": [],
   "source": [
    "\n",
    "# Your code here \n",
    "X, y, coef = make_regression(n_samples=20, \n",
    "                             n_features=1, \n",
    "                             noise=20, \n",
    "                             bias=0.5, \n",
    "                             random_state=42, \n",
    "                             coef=True)"
   ]
  },
  {
   "cell_type": "markdown",
   "metadata": {},
   "source": [
    "### Part B\n",
    "\n",
    "- Set `a1b` to the range of `X`, i.e., a list `[lb,ub]` (or tuple or array) where `lb` is the smallest value in `X` and `ub` is the largest, both rounded to 4 decimal places.\n",
    "- Note: You can use `np.around(...)` for just about anything, including floats and tuples.  For numpy arrays, generally it is more readable to use the postfix version  `.round(...)`"
   ]
  },
  {
   "cell_type": "code",
   "execution_count": 86,
   "metadata": {
    "tags": []
   },
   "outputs": [
    {
     "name": "stdout",
     "output_type": "stream",
     "text": [
      "Range of X = [np.float64(-1.9133), np.float64(1.5792)]\n"
     ]
    }
   ],
   "source": [
    "\n",
    "# Your code here\n",
    "lb, ub = np.min(X), np.max(X)\n",
    "a1b = [round(lb, 4), round(ub, 4)]\n",
    "\n",
    "print(f'Range of X = {a1b}')"
   ]
  },
  {
   "cell_type": "code",
   "execution_count": 87,
   "metadata": {
    "deletable": false,
    "editable": false
   },
   "outputs": [
    {
     "data": {
      "text/html": [
       "<p><strong><pre style='display: inline;'>q1b</pre></strong> passed! 💯</p>"
      ],
      "text/plain": [
       "q1b results: All test cases passed!"
      ]
     },
     "execution_count": 87,
     "metadata": {},
     "output_type": "execute_result"
    }
   ],
   "source": [
    "grader.check(\"q1b\")"
   ]
  },
  {
   "cell_type": "markdown",
   "metadata": {},
   "source": [
    "### Part C\n",
    "\n",
    "- Set `a1c` to the slope of the underlying model, to 4 decimal places. \n",
    "\n",
    "- Hint: `make_regression` will return the coefficients as an array with one fewer dimensions than `X`; in this case, it is a 0-dimension array whose shape is `()`.  Weird, I know, but this is unusual.  You can pretend it is just a float. "
   ]
  },
  {
   "cell_type": "code",
   "execution_count": 88,
   "metadata": {
    "tags": []
   },
   "outputs": [
    {
     "name": "stdout",
     "output_type": "stream",
     "text": [
      "Slope = 45.607\n"
     ]
    }
   ],
   "source": [
    "\n",
    "# Your code here\n",
    "\n",
    "a1c = np.around(coef, 4)\n",
    "\n",
    "print(f'Slope = {a1c}')"
   ]
  },
  {
   "cell_type": "code",
   "execution_count": 89,
   "metadata": {
    "deletable": false,
    "editable": false
   },
   "outputs": [
    {
     "data": {
      "text/html": [
       "<p><strong><pre style='display: inline;'>q1c</pre></strong> passed! 🌈</p>"
      ],
      "text/plain": [
       "q1c results: All test cases passed!"
      ]
     },
     "execution_count": 89,
     "metadata": {},
     "output_type": "execute_result"
    }
   ],
   "source": [
    "grader.check(\"q1c\")"
   ]
  },
  {
   "cell_type": "markdown",
   "metadata": {},
   "source": [
    "### Part D\n",
    "\n",
    "Generate a scatterplot of the dataset with the following:\n",
    "   - A suitable title\n",
    "   - Figure size of (8,6)\n",
    "   - Suitable labels on x and y axis (just `X` and y are fine)\n",
    "   - The underlying model (with no noise), a line extending through the range of X, using `color=grey`\n",
    "   - A label \"Underlying Model\" on the line representing the model and a label \"Data Points\" on\n",
    "     the sample points. (Don't forget to call `plt.legend()` to show the labels!)\n",
    "\n",
    "Note: Optional, but playing around with the style of the scatter points will produce a better-looking plot; I use `marker='.'` to get smaller dots for a scatterplot; you can\n",
    "also play around with `linestyle='--'` or other choices, plus of course colors, saturation `alpha=0.5`, etc. \n"
   ]
  },
  {
   "cell_type": "code",
   "execution_count": 90,
   "metadata": {
    "tags": []
   },
   "outputs": [
    {
     "data": {
      "text/plain": [
       "<Figure size 800x600 with 0 Axes>"
      ]
     },
     "execution_count": 90,
     "metadata": {},
     "output_type": "execute_result"
    },
    {
     "data": {
      "image/png": "[encoded data removed]",
      "text/plain": [
       "<Figure size 640x480 with 1 Axes>"
      ]
     },
     "metadata": {},
     "output_type": "display_data"
    },
    {
     "data": {
      "text/plain": [
       "<Figure size 800x600 with 0 Axes>"
      ]
     },
     "metadata": {},
     "output_type": "display_data"
    }
   ],
   "source": [
    "# Your code here\n",
    "\n",
    "X_D = np.linspace(lb, ub, 20)\n",
    "y_D = coef * X_D + 0.5\n",
    "\n",
    "\n",
    "plt.scatter(X, y, marker='.', label='Data Points')\n",
    "plt.plot(X_D, y_D, color='grey', label=\"Underlying Model\", linestyle='--')\n",
    "plt.xlabel('X')\n",
    "plt.ylabel('y')\n",
    "plt.legend()\n",
    "plt.title(\"Linear Regression with Noisy Data\")\n",
    "plt.figure(figsize = (8,6))\n"
   ]
  },
  {
   "cell_type": "markdown",
   "metadata": {},
   "source": [
    "## Problem Two: Run Linear Regression on the Data Set and Evaluate the Results\n",
    "\n",
    "Now we will use `sklearn`'s `LinearRegression` model to create a model from the dataset. Of course, the **underlying model** has already been\n",
    "created, but your linear regression won't know that, and it has to determine the best model given the data samples it has.\n",
    "\n",
    "### Part A: Create and Evaluate a Linear Model\n",
    "- Create a linear regression model and train it on `X,y`. \n",
    "- Set `a2a` to the bias/y-intercept of the model, to 4 decimal places.            \n",
    "- NOTE:  You must round the value assigned to `a2a`, NOT just print it out with 4 digits of precision.  \n"
   ]
  },
  {
   "cell_type": "code",
   "execution_count": 91,
   "metadata": {
    "tags": []
   },
   "outputs": [
    {
     "name": "stdout",
     "output_type": "stream",
     "text": [
      "Bias = 5.2857\n"
     ]
    }
   ],
   "source": [
    "\n",
    "# Your code here\n",
    "\n",
    "model_A = LinearRegression()\n",
    "model_A.fit(X,y)\n",
    "y_predicted = model_A.predict(X)\n",
    "\n",
    "bias_2a = model_A.intercept_\n",
    "a2a = np.around(bias_2a, 4)\n",
    "\n",
    "print(f'Bias = {a2a}')\n"
   ]
  },
  {
   "cell_type": "code",
   "execution_count": 92,
   "metadata": {
    "deletable": false,
    "editable": false
   },
   "outputs": [
    {
     "data": {
      "text/html": [
       "<p><strong><pre style='display: inline;'>q2a</pre></strong> passed! 💯</p>"
      ],
      "text/plain": [
       "q2a results: All test cases passed!"
      ]
     },
     "execution_count": 92,
     "metadata": {},
     "output_type": "execute_result"
    }
   ],
   "source": [
    "grader.check(\"q2a\")"
   ]
  },
  {
   "cell_type": "markdown",
   "metadata": {},
   "source": [
    "### Part B\n",
    "\n",
    "- Set `a2b` to the slope of the model.\n",
    "- Hint: The coefficients are returned as a 1-dimensional array (unlike make_regression!), so you'll need to turn a 1-element array into a scalar. \n"
   ]
  },
  {
   "cell_type": "code",
   "execution_count": 93,
   "metadata": {
    "tags": []
   },
   "outputs": [
    {
     "name": "stdout",
     "output_type": "stream",
     "text": [
      "Slope = 45.712451437501926\n"
     ]
    }
   ],
   "source": [
    "# Your code here\n",
    "\n",
    "a2b = model_A.coef_[0]\n",
    "\n",
    "print(f'Slope = {a2b}')\n"
   ]
  },
  {
   "cell_type": "code",
   "execution_count": 94,
   "metadata": {
    "deletable": false,
    "editable": false
   },
   "outputs": [
    {
     "data": {
      "text/html": [
       "<p><strong><pre style='display: inline;'>q2b</pre></strong> passed! 🌈</p>"
      ],
      "text/plain": [
       "q2b results: All test cases passed!"
      ]
     },
     "execution_count": 94,
     "metadata": {},
     "output_type": "execute_result"
    }
   ],
   "source": [
    "grader.check(\"q2b\")"
   ]
  },
  {
   "cell_type": "markdown",
   "metadata": {},
   "source": [
    "### Part C\n",
    "\n",
    "- Set `a2c` to the **training MSE** of the model on the dataset, to 4 decimal places\n",
    "- Hint: generate an array `y_pred` by using the model to predict the targets from the original `X`, then calculate the mean squared error using the appropriate `sklearn` function.  (Now might be a good time to look at that first code cell to see what I imported for you.)\n"
   ]
  },
  {
   "cell_type": "code",
   "execution_count": 95,
   "metadata": {
    "tags": []
   },
   "outputs": [
    {
     "name": "stdout",
     "output_type": "stream",
     "text": [
      "Training MSE = 436.9129821094651\n"
     ]
    }
   ],
   "source": [
    "\n",
    "# Your code here\n",
    "\n",
    "a2c = mean_squared_error(y, y_predicted)\n",
    "\n",
    "print(f'Training MSE = {a2c}')\n"
   ]
  },
  {
   "cell_type": "code",
   "execution_count": 96,
   "metadata": {
    "deletable": false,
    "editable": false
   },
   "outputs": [
    {
     "data": {
      "text/html": [
       "<p><strong><pre style='display: inline;'>q2c</pre></strong> passed! 🌈</p>"
      ],
      "text/plain": [
       "q2c results: All test cases passed!"
      ]
     },
     "execution_count": 96,
     "metadata": {},
     "output_type": "execute_result"
    }
   ],
   "source": [
    "grader.check(\"q2c\")"
   ]
  },
  {
   "cell_type": "markdown",
   "metadata": {},
   "source": [
    "### Part D\n",
    "\n",
    "- Set `a2d` to the coefficient of determination (R2) of the model (read the docs!), to 4 decimal places\n"
   ]
  },
  {
   "cell_type": "code",
   "execution_count": 97,
   "metadata": {
    "tags": []
   },
   "outputs": [
    {
     "name": "stdout",
     "output_type": "stream",
     "text": [
      "Training MSE = 0.8072\n"
     ]
    }
   ],
   "source": [
    "\n",
    "# Your code here\n",
    "\n",
    "a2d = np.around(r2_score(y, y_predicted), 4)\n",
    "\n",
    "print(f'Training MSE = {a2d}')\n"
   ]
  },
  {
   "cell_type": "code",
   "execution_count": 98,
   "metadata": {
    "deletable": false,
    "editable": false
   },
   "outputs": [
    {
     "data": {
      "text/html": [
       "<p><strong><pre style='display: inline;'>q2d</pre></strong> passed! 🚀</p>"
      ],
      "text/plain": [
       "q2d results: All test cases passed!"
      ]
     },
     "execution_count": 98,
     "metadata": {},
     "output_type": "execute_result"
    }
   ],
   "source": [
    "grader.check(\"q2d\")"
   ]
  },
  {
   "cell_type": "markdown",
   "metadata": {},
   "source": [
    "### Part E\n",
    "\n",
    "- Provide a visualization of the regression line by cutting and pasting the code from Problem One D, then adding a plot of the model's regression line in red. "
   ]
  },
  {
   "cell_type": "code",
   "execution_count": 99,
   "metadata": {
    "tags": []
   },
   "outputs": [
    {
     "data": {
      "text/plain": [
       "<matplotlib.legend.Legend at 0x773675b87b00>"
      ]
     },
     "execution_count": 99,
     "metadata": {},
     "output_type": "execute_result"
    },
    {
     "data": {
      "image/png": "[encoded data removed]",
      "text/plain": [
       "<Figure size 640x480 with 1 Axes>"
      ]
     },
     "metadata": {},
     "output_type": "display_data"
    }
   ],
   "source": [
    "\n",
    "# Your code here\n",
    "\n",
    "plt.plot(X_D, y_D, color='grey', label=\"Underlying Model\", linestyle='--')\n",
    "plt.plot(X, y_predicted, color='red', label='Regression Line')\n",
    "plt.xlabel('X')\n",
    "plt.ylabel('y')\n",
    "plt.title('Regression vs. Model')\n",
    "plt.legend()\n"
   ]
  },
  {
   "cell_type": "markdown",
   "metadata": {},
   "source": [
    "### Pause and Ponder (no need to write answers, just think about these):  \n",
    "- Why does the linear regression line not match the underlying model?\n",
    "- Which parameters (`bias`, `n_samples`,`noise`) do you think affect how well the regression model matches the actual model?\n",
    "- What changes to these parameters would result in a more accurate match between underlying and regression models?"
   ]
  },
  {
   "cell_type": "markdown",
   "metadata": {},
   "source": [
    "## Problem Three:  How well does it generalize?\n",
    "\n",
    "The **most important issue** in making useful models is to ensure that they are able to **generalize to new data from the same domain.**  For example, if you create a model from a housing price dataset, \n",
    "you want it to be able to predict what price could be obtained if you build new houses with particular features. You will learn techniques for judging how well models generalize in\n",
    "the next few lessons, and it will continue to be a crucial issue going forward. \n",
    "\n",
    "For now, since we have the underlying model (which never happens IRL!) we can easily create new data samples with the same characteristics as the set we used for training. \n"
   ]
  },
  {
   "cell_type": "markdown",
   "metadata": {},
   "source": [
    "### Part A\n",
    "\n",
    "- Complete the following stub to create a function to create new points to add the data set, with all the same parameters as the underlying model, following these steps:\n",
    "    1. Create a random number within the existing range of`X`, using `np.random.uniform` \n",
    "    2. Use the bias and slope of the underlying model to find the point (x,y) on the regression line (which is the prediction for y given x)\n",
    "    3. Return (x,y)\n",
    "\n",
    "- Test it by running the cell repeatedly to see the results (we are not setting a random seed, so it will generate random answers)\n"
   ]
  },
  {
   "cell_type": "code",
   "execution_count": 100,
   "metadata": {
    "scrolled": true,
    "tags": []
   },
   "outputs": [
    {
     "data": {
      "text/plain": [
       "(-0.6052014788299391, np.float64(-49.33902525074812))"
      ]
     },
     "execution_count": 100,
     "metadata": {},
     "output_type": "execute_result"
    }
   ],
   "source": [
    "\n",
    "\n",
    "np.random.seed(42)\n",
    "\n",
    "def generate_sample():\n",
    "    x_new = np.random.uniform(np.min(X), np.max(X))\n",
    "    error = np.random.normal(0,20)\n",
    "    y_new = coef * x_new + 0.5 + error\n",
    "    return x_new, y_new\n",
    "\n",
    "generate_sample()"
   ]
  },
  {
   "cell_type": "markdown",
   "metadata": {},
   "source": [
    "### Part B\n",
    "\n",
    "- Generate 5 new data points (we'll use these below as a **test set**) and assign them to ndarrays `X_new` and `y_new`, \n",
    "- Hint: create a list of pairs and split using `zip(* ...)`\n",
    "\n",
    "- Set `a3b` to the first 2 values in `X_new`, rounded to 4 decimal places."
   ]
  },
  {
   "cell_type": "code",
   "execution_count": 101,
   "metadata": {
    "tags": []
   },
   "outputs": [
    {
     "name": "stdout",
     "output_type": "stream",
     "text": [
      "[-0.6052 -1.3685]\n"
     ]
    }
   ],
   "source": [
    "\n",
    "np.random.seed(42)             # do not remove this line!\n",
    "\n",
    "# Your code here\n",
    "\n",
    "new_points = [generate_sample() for _ in range(5)]\n",
    "X_new, y_new = zip(*new_points)\n",
    "X_new = np.array(X_new)\n",
    "y_new = np.array(y_new)\n",
    "\n",
    "a3b = np.around(X_new[:2], 4)\n",
    "\n",
    "print(a3b)\n"
   ]
  },
  {
   "cell_type": "code",
   "execution_count": 102,
   "metadata": {
    "deletable": false,
    "editable": false
   },
   "outputs": [
    {
     "data": {
      "text/html": [
       "<p><strong><pre style='display: inline;'>q3b</pre></strong> passed! 🙌</p>"
      ],
      "text/plain": [
       "q3b results: All test cases passed!"
      ]
     },
     "execution_count": 102,
     "metadata": {},
     "output_type": "execute_result"
    }
   ],
   "source": [
    "grader.check(\"q3b\")"
   ]
  },
  {
   "cell_type": "markdown",
   "metadata": {},
   "source": [
    "### Part C\n",
    "\n",
    "- Cut and paste the code from Problem Two E and add one line of code to display the new data points in green, in addition to what you displayed in Problem Two. \n"
   ]
  },
  {
   "cell_type": "code",
   "execution_count": 103,
   "metadata": {
    "tags": []
   },
   "outputs": [
    {
     "data": {
      "text/plain": [
       "<matplotlib.legend.Legend at 0x7736781e3680>"
      ]
     },
     "execution_count": 103,
     "metadata": {},
     "output_type": "execute_result"
    },
    {
     "data": {
      "image/png": "[encoded data removed]",
      "text/plain": [
       "<Figure size 640x480 with 1 Axes>"
      ]
     },
     "metadata": {},
     "output_type": "display_data"
    }
   ],
   "source": [
    "# Your code here\n",
    "\n",
    "plt.plot(X_D, y_D, color='grey', label=\"Underlying Model\", linestyle='--')\n",
    "plt.plot(X, y_predicted, color='red', label='Regression Line')\n",
    "plt.scatter(X_new, y_new, color='green', marker='.')\n",
    "plt.xlabel('X')\n",
    "plt.ylabel('y')\n",
    "plt.title('Regression vs. Model')\n",
    "plt.legend()\n"
   ]
  },
  {
   "cell_type": "markdown",
   "metadata": {},
   "source": [
    "### Part D\n",
    "\n",
    "- Assign the MSE on the new data to `a3d` (we'll later call this the \"test MSE\") , rounded to 4 decimal points.\n",
    "- Hint: When you \"roll your own\" datasets using ndarrays, you will generally have to reshape them using `.reshape(-1,1)` because `sklearn` models expect a column array, not a \"normal\" array. \n"
   ]
  },
  {
   "cell_type": "code",
   "execution_count": 104,
   "metadata": {
    "tags": []
   },
   "outputs": [
    {
     "name": "stdout",
     "output_type": "stream",
     "text": [
      "MSE on new data = 245.9235\n"
     ]
    }
   ],
   "source": [
    "\n",
    "X_new = X_new.reshape(-1, 1)\n",
    "y_pred = model_A.predict(X_new)\n",
    "\n",
    "\n",
    "a3d = round(mean_squared_error(y_new, y_pred), 4)\n",
    "\n",
    "print(f'MSE on new data = {a3d}')\n"
   ]
  },
  {
   "cell_type": "code",
   "execution_count": 105,
   "metadata": {
    "deletable": false,
    "editable": false
   },
   "outputs": [
    {
     "data": {
      "text/html": [
       "<p><strong><pre style='display: inline;'>q3d</pre></strong> passed! 🚀</p>"
      ],
      "text/plain": [
       "q3d results: All test cases passed!"
      ]
     },
     "execution_count": 105,
     "metadata": {},
     "output_type": "execute_result"
    }
   ],
   "source": [
    "grader.check(\"q3d\")"
   ]
  },
  {
   "cell_type": "markdown",
   "metadata": {},
   "source": [
    "### Part E:  Let's Compare Metrics\n",
    "\n",
    "We now have three related values:\n",
    "- Noise = standard deviation of \"errors\" between the data and the underlying model \n",
    "- Training MSE of the linear model on the dataset \n",
    "- Testing MSE of the linear model on new data generated with the same parameters as the original dataset\n",
    "\n",
    "Answer the following multiple-choice problems by assigning the variable to the  **most accurate** statement.\n",
    "\n",
    "#### E1) Comparing the Two MSEs\n",
    "\n",
    "Why might the training MSE be *larger* than the testing MSE in this scenario?\n",
    "\n",
    "1. These should be exactly the same, so there must have been an error somewhere.  \n",
    "2.  With only 20 training points, a few unusual data points (outliers) can increase the average training error; meanwhile, the small test set of 5 points could *by chance* lead to smaller errors overall.  \n",
    "3. There is always a positive bias in the regression line, so it will always be larger. \n",
    "4.  There is very little relationship between these two numbers, so the fact that they are close to each other must be an accident.  "
   ]
  },
  {
   "cell_type": "code",
   "execution_count": 106,
   "metadata": {
    "tags": []
   },
   "outputs": [],
   "source": [
    "\n",
    "a3e1 =  2            # your answer should one of 1, 2, 3, 4 \n",
    "\n"
   ]
  },
  {
   "cell_type": "code",
   "execution_count": 107,
   "metadata": {
    "deletable": false,
    "editable": false
   },
   "outputs": [
    {
     "data": {
      "text/html": [
       "<p><strong><pre style='display: inline;'>q3e1</pre></strong> passed! ✨</p>"
      ],
      "text/plain": [
       "q3e1 results: All test cases passed!"
      ]
     },
     "execution_count": 107,
     "metadata": {},
     "output_type": "execute_result"
    }
   ],
   "source": [
    "grader.check(\"q3e1\")"
   ]
  },
  {
   "cell_type": "markdown",
   "metadata": {},
   "source": [
    "#### E2) Understanding the Noise Parameter\n",
    " \n",
    "Suppose a dataset has been generated using `make_regression` with `noise = 20`.  \n",
    "\n",
    "Which statement best explains the significance of the noise parameter when interpreting the MSE of models trained on this dataset?  \n",
    "\n",
    "1. The square of the noise parameter, $20^2 = 400$, represents the irreducible noise in the data; no model can achieve an MSE lower than this on average.  \n",
    "2. A noise standard deviation of 20 means the MSE can eventually be reduced to 0 with enough data.  \n",
    "3. MSE measures the *average* absolute errors, so having $\\sigma = 20$ implies the MSE will always equal 20.  \n",
    "4. If the noise is 20, then it’s possible to create a model with training and testing MSEs that are *exactly* 400 with sufficient effort.  \n"
   ]
  },
  {
   "cell_type": "code",
   "execution_count": 108,
   "metadata": {
    "tags": []
   },
   "outputs": [],
   "source": [
    "\n",
    "a3e2 =  1           # your answer should one of 1, 2, 3, 4 \n"
   ]
  },
  {
   "cell_type": "code",
   "execution_count": 109,
   "metadata": {
    "deletable": false,
    "editable": false
   },
   "outputs": [
    {
     "data": {
      "text/html": [
       "<p><strong><pre style='display: inline;'>q3e2</pre></strong> passed! 🎉</p>"
      ],
      "text/plain": [
       "q3e2 results: All test cases passed!"
      ]
     },
     "execution_count": 109,
     "metadata": {},
     "output_type": "execute_result"
    }
   ],
   "source": [
    "grader.check(\"q3e2\")"
   ]
  },
  {
   "cell_type": "markdown",
   "metadata": {},
   "source": [
    "#### E3) The Role of Dataset Size\n",
    "\n",
    "You fitted a linear model on **20** training points and tested it on **5** new points, both drawn from a process with noise standard deviation 20 (variance 400).  \n",
    "\n",
    "What would happen if we repeated the same experiment with more training/testing points or with even fewer points?  \n",
    "In other words, **how does dataset size affect the measured MSE values?**\n",
    "\n",
    "1.  If the training set is small, the MSE will always be *exactly* 400 for both training and test sets, since there’s too little data to deviate from the noise variance.  \n",
    "\n",
    "2.  Collecting more data actively *lowers* the true noise standard deviation from 20 to something smaller, guaranteeing an MSE below 400.  \n",
    "3. If you have fewer than 30 data points, the training MSE must always exceed 400 and the test MSE must always be *less* than 400.  \n",
    "4. Small sample sizes can cause large swings in MSE, sometimes pushing the training MSE above 400 while letting a tiny test set fall below 400 by chance. With larger datasets, the MSE typically stabilizes closer to 400.  "
   ]
  },
  {
   "cell_type": "code",
   "execution_count": 110,
   "metadata": {
    "tags": []
   },
   "outputs": [],
   "source": [
    "\n",
    "a3e3 = 4            # your answer should one of 1, 2, 3, 4  \n"
   ]
  },
  {
   "cell_type": "code",
   "execution_count": 111,
   "metadata": {
    "deletable": false,
    "editable": false
   },
   "outputs": [
    {
     "data": {
      "text/html": [
       "<p><strong><pre style='display: inline;'>q3e3</pre></strong> passed! 🎉</p>"
      ],
      "text/plain": [
       "q3e3 results: All test cases passed!"
      ]
     },
     "execution_count": 111,
     "metadata": {},
     "output_type": "execute_result"
    }
   ],
   "source": [
    "grader.check(\"q3e3\")"
   ]
  },
  {
   "cell_type": "markdown",
   "metadata": {},
   "source": [
    "## Problem Four: Linear Regression on an Actual Dataset (finally!)\n",
    "\n",
    "Let's consider applying what we have learned to an actual dataset, the Diabetes dataset from Kaggle. This has 10 features and 1 target,\n",
    "so it is an instance of **multiple regression**, however we can train a model almost exactly as we did in the univariate case. \n",
    "\n",
    "After doing a bit of EDA and massaging of the features, we will first consider separate regressions on a single feature of the dataset, and then run multiple regression on the whole set. "
   ]
  },
  {
   "cell_type": "code",
   "execution_count": 112,
   "metadata": {},
   "outputs": [
    {
     "data": {
      "text/html": [
       "<div>\n",
       "<style scoped>\n",
       "    .dataframe tbody tr th:only-of-type {\n",
       "        vertical-align: middle;\n",
       "    }\n",
       "\n",
       "    .dataframe tbody tr th {\n",
       "        vertical-align: top;\n",
       "    }\n",
       "\n",
       "    .dataframe thead th {\n",
       "        text-align: right;\n",
       "    }\n",
       "</style>\n",
       "<table border=\"1\" class=\"dataframe\">\n",
       "  <thead>\n",
       "    <tr style=\"text-align: right;\">\n",
       "      <th></th>\n",
       "      <th>age</th>\n",
       "      <th>sex</th>\n",
       "      <th>bmi</th>\n",
       "      <th>bp</th>\n",
       "      <th>s1</th>\n",
       "      <th>s2</th>\n",
       "      <th>s3</th>\n",
       "      <th>s4</th>\n",
       "      <th>s5</th>\n",
       "      <th>s6</th>\n",
       "      <th>DiseaseProgression</th>\n",
       "    </tr>\n",
       "  </thead>\n",
       "  <tbody>\n",
       "    <tr>\n",
       "      <th>0</th>\n",
       "      <td>0.038076</td>\n",
       "      <td>0.050680</td>\n",
       "      <td>0.061696</td>\n",
       "      <td>0.021872</td>\n",
       "      <td>-0.044223</td>\n",
       "      <td>-0.034821</td>\n",
       "      <td>-0.043401</td>\n",
       "      <td>-0.002592</td>\n",
       "      <td>0.019907</td>\n",
       "      <td>-0.017646</td>\n",
       "      <td>151.0</td>\n",
       "    </tr>\n",
       "    <tr>\n",
       "      <th>1</th>\n",
       "      <td>-0.001882</td>\n",
       "      <td>-0.044642</td>\n",
       "      <td>-0.051474</td>\n",
       "      <td>-0.026328</td>\n",
       "      <td>-0.008449</td>\n",
       "      <td>-0.019163</td>\n",
       "      <td>0.074412</td>\n",
       "      <td>-0.039493</td>\n",
       "      <td>-0.068332</td>\n",
       "      <td>-0.092204</td>\n",
       "      <td>75.0</td>\n",
       "    </tr>\n",
       "    <tr>\n",
       "      <th>2</th>\n",
       "      <td>0.085299</td>\n",
       "      <td>0.050680</td>\n",
       "      <td>0.044451</td>\n",
       "      <td>-0.005670</td>\n",
       "      <td>-0.045599</td>\n",
       "      <td>-0.034194</td>\n",
       "      <td>-0.032356</td>\n",
       "      <td>-0.002592</td>\n",
       "      <td>0.002861</td>\n",
       "      <td>-0.025930</td>\n",
       "      <td>141.0</td>\n",
       "    </tr>\n",
       "    <tr>\n",
       "      <th>3</th>\n",
       "      <td>-0.089063</td>\n",
       "      <td>-0.044642</td>\n",
       "      <td>-0.011595</td>\n",
       "      <td>-0.036656</td>\n",
       "      <td>0.012191</td>\n",
       "      <td>0.024991</td>\n",
       "      <td>-0.036038</td>\n",
       "      <td>0.034309</td>\n",
       "      <td>0.022688</td>\n",
       "      <td>-0.009362</td>\n",
       "      <td>206.0</td>\n",
       "    </tr>\n",
       "    <tr>\n",
       "      <th>4</th>\n",
       "      <td>0.005383</td>\n",
       "      <td>-0.044642</td>\n",
       "      <td>-0.036385</td>\n",
       "      <td>0.021872</td>\n",
       "      <td>0.003935</td>\n",
       "      <td>0.015596</td>\n",
       "      <td>0.008142</td>\n",
       "      <td>-0.002592</td>\n",
       "      <td>-0.031988</td>\n",
       "      <td>-0.046641</td>\n",
       "      <td>135.0</td>\n",
       "    </tr>\n",
       "  </tbody>\n",
       "</table>\n",
       "</div>"
      ],
      "text/plain": [
       "        age       sex       bmi        bp        s1        s2        s3  \\\n",
       "0  0.038076  0.050680  0.061696  0.021872 -0.044223 -0.034821 -0.043401   \n",
       "1 -0.001882 -0.044642 -0.051474 -0.026328 -0.008449 -0.019163  0.074412   \n",
       "2  0.085299  0.050680  0.044451 -0.005670 -0.045599 -0.034194 -0.032356   \n",
       "3 -0.089063 -0.044642 -0.011595 -0.036656  0.012191  0.024991 -0.036038   \n",
       "4  0.005383 -0.044642 -0.036385  0.021872  0.003935  0.015596  0.008142   \n",
       "\n",
       "         s4        s5        s6  DiseaseProgression  \n",
       "0 -0.002592  0.019907 -0.017646               151.0  \n",
       "1 -0.039493 -0.068332 -0.092204                75.0  \n",
       "2 -0.002592  0.002861 -0.025930               141.0  \n",
       "3  0.034309  0.022688 -0.009362               206.0  \n",
       "4 -0.002592 -0.031988 -0.046641               135.0  "
      ]
     },
     "execution_count": 112,
     "metadata": {},
     "output_type": "execute_result"
    }
   ],
   "source": [
    "# Download Kaggle Diabetes Dataset\n",
    "\n",
    "from sklearn.datasets import load_diabetes\n",
    "\n",
    "data_diabetes = load_diabetes(as_frame=True)\n",
    "df_diabetes = pd.concat([data_diabetes.data, data_diabetes.target.rename('DiseaseProgression')], axis=1)\n",
    "\n",
    "feature_names = df_diabetes.drop(columns=[\"DiseaseProgression\"]).columns.tolist()\n",
    "\n",
    "df_diabetes.head()\n"
   ]
  },
  {
   "cell_type": "code",
   "execution_count": 113,
   "metadata": {},
   "outputs": [
    {
     "name": "stdout",
     "output_type": "stream",
     "text": [
      "<class 'pandas.core.frame.DataFrame'>\n",
      "RangeIndex: 442 entries, 0 to 441\n",
      "Data columns (total 11 columns):\n",
      " #   Column              Non-Null Count  Dtype  \n",
      "---  ------              --------------  -----  \n",
      " 0   age                 442 non-null    float64\n",
      " 1   sex                 442 non-null    float64\n",
      " 2   bmi                 442 non-null    float64\n",
      " 3   bp                  442 non-null    float64\n",
      " 4   s1                  442 non-null    float64\n",
      " 5   s2                  442 non-null    float64\n",
      " 6   s3                  442 non-null    float64\n",
      " 7   s4                  442 non-null    float64\n",
      " 8   s5                  442 non-null    float64\n",
      " 9   s6                  442 non-null    float64\n",
      " 10  DiseaseProgression  442 non-null    float64\n",
      "dtypes: float64(11)\n",
      "memory usage: 38.1 KB\n"
     ]
    }
   ],
   "source": [
    "df_diabetes.info()"
   ]
  },
  {
   "cell_type": "markdown",
   "metadata": {},
   "source": [
    "#### Features of the Diabetes Dataset\n",
    "\n",
    "- **age**: age of the patient  \n",
    "- **sex**: gender of the patient  \n",
    "- **bmi**: body mass index (BMI)  \n",
    "- **bp**:  mean blood pressure  \n",
    "- **s1**:  measure of serum cholesterol levels  \n",
    "- **s2**:  measure related to low-density lipoproteins (LDL)  \n",
    "- **s3**:  measure of high-density lipoproteins (HDL)  \n",
    "- **s4**:  measure of total cholesterol-to-HDL ratio  \n",
    "- **s5**:  measure of serum triglycerides  \n",
    "- **s6**:  measure of blood sugar levels  \n",
    "- **DiseaseProgression**: Quantitative measure of diabetes disease progression one year after baseline (target variable)  \n",
    "\n"
   ]
  },
  {
   "cell_type": "code",
   "execution_count": 114,
   "metadata": {},
   "outputs": [
    {
     "data": {
      "image/png": "[encoded data removed]",
      "text/plain": [
       "<Figure size 1200x800 with 12 Axes>"
      ]
     },
     "metadata": {},
     "output_type": "display_data"
    }
   ],
   "source": [
    "# This one we'll give you:\n",
    "# Always useful to create histograms of the features when possible; the layout and formatting are sometimes awkward, so\n",
    "# I use the following:\n",
    "\n",
    "df_diabetes.hist(figsize=(12,8), layout=(3,4),grid=False,edgecolor='black')\n",
    "plt.tight_layout()\n",
    "plt.show()"
   ]
  },
  {
   "cell_type": "markdown",
   "metadata": {},
   "source": [
    "### Part A:\n",
    "\n",
    "- Generate the correlation matrix for all the features using Pandas' `.corr()` function, plot it as a heatmap, and give it an appropriate title.   \n",
    "- Hint: Use `seaborn`'s `heatmap` function, imported in the first cell as `sns`.  (Have I mentioned you might want to read the docs?)\n"
   ]
  },
  {
   "cell_type": "code",
   "execution_count": 115,
   "metadata": {
    "tags": []
   },
   "outputs": [
    {
     "data": {
      "text/plain": [
       "<Axes: >"
      ]
     },
     "execution_count": 115,
     "metadata": {},
     "output_type": "execute_result"
    },
    {
     "data": {
      "image/png": "[encoded data removed]",
      "text/plain": [
       "<Figure size 640x480 with 2 Axes>"
      ]
     },
     "metadata": {},
     "output_type": "display_data"
    }
   ],
   "source": [
    "# Your code here\n",
    "\n",
    "matrix = df_diabetes.corr()\n",
    "\n",
    "sns.heatmap(matrix)"
   ]
  },
  {
   "cell_type": "markdown",
   "metadata": {},
   "source": [
    "### Part B\n",
    "\n",
    "- Now set `a4b` to the name of the feature which has the largest correlation with the target. \n"
   ]
  },
  {
   "cell_type": "code",
   "execution_count": 116,
   "metadata": {
    "tags": []
   },
   "outputs": [
    {
     "name": "stdout",
     "output_type": "stream",
     "text": [
      "age    0.187889\n",
      "sex    0.043062\n",
      "bmi    0.586450\n",
      "bp     0.441482\n",
      "s1     0.212022\n",
      "s2     0.174054\n",
      "s3    -0.394789\n",
      "s4     0.430453\n",
      "s5     0.565883\n",
      "s6     0.382483\n",
      "Name: DiseaseProgression, dtype: float64\n"
     ]
    }
   ],
   "source": [
    "\n",
    "target= matrix[\"DiseaseProgression\"].drop(\"DiseaseProgression\")\n",
    "a4b = target.idxmax()\n",
    "\n",
    "print(target)\n",
    "\n"
   ]
  },
  {
   "cell_type": "code",
   "execution_count": 117,
   "metadata": {
    "deletable": false,
    "editable": false
   },
   "outputs": [
    {
     "data": {
      "text/html": [
       "<p><strong><pre style='display: inline;'>q4b</pre></strong> passed! 💯</p>"
      ],
      "text/plain": [
       "q4b results: All test cases passed!"
      ]
     },
     "execution_count": 117,
     "metadata": {},
     "output_type": "execute_result"
    }
   ],
   "source": [
    "grader.check(\"q4b\")"
   ]
  },
  {
   "cell_type": "markdown",
   "metadata": {},
   "source": [
    "### Part C\n",
    "\n",
    "- Next, in order to avoid any snickers when discussing the dataset, change the column name 'sex' to 'gender'\n",
    "  in place and set the variable `a4c` to a numpy array of the feature/column names.\n",
    "- Hint: if your answer starts `Index(...` then you have a Pandas data structure and not an ndarray as required. \n"
   ]
  },
  {
   "cell_type": "code",
   "execution_count": 118,
   "metadata": {
    "tags": []
   },
   "outputs": [
    {
     "name": "stdout",
     "output_type": "stream",
     "text": [
      "Feature names = ['age' 'gender' 'bmi' 'bp' 's1' 's2' 's3' 's4' 's5' 's6'\n",
      " 'DiseaseProgression']\n"
     ]
    }
   ],
   "source": [
    "df_diabetes.rename(columns={'sex': 'gender'}, inplace=True)\n",
    "\n",
    "a4c = np.array(df_diabetes.columns)\n",
    "\n",
    "print(f'Feature names = {a4c}')"
   ]
  },
  {
   "cell_type": "code",
   "execution_count": 119,
   "metadata": {
    "deletable": false,
    "editable": false
   },
   "outputs": [
    {
     "data": {
      "text/html": [
       "<p><strong><pre style='display: inline;'>q4c</pre></strong> passed! 🍀</p>"
      ],
      "text/plain": [
       "q4c results: All test cases passed!"
      ]
     },
     "execution_count": 119,
     "metadata": {},
     "output_type": "execute_result"
    }
   ],
   "source": [
    "grader.check(\"q4c\")"
   ]
  },
  {
   "cell_type": "markdown",
   "metadata": {},
   "source": [
    "### Part D\n",
    "\n",
    "- Create dataset in the form `X,y` from the dataframe by dropping the last column to create `X`, and just selecting the last column to make `y`\n",
    "\n",
    "- Note: `sklearn`'s models are perfectly happy to work with dataframes, so we can just keep them as such and not convert to ndarrays.  Two advantages are: you don't have to reshape for input to the model, and you keep the feature names in case you need them later, e.g., when doing feature selection. \n",
    "\n",
    "- Set `aa4d` to the pair  ( shape of `X`, shape of `y` )\n"
   ]
  },
  {
   "cell_type": "code",
   "execution_count": 120,
   "metadata": {
    "tags": []
   },
   "outputs": [
    {
     "name": "stdout",
     "output_type": "stream",
     "text": [
      "(shape of X, shape of y) = ((442, 10), (442,))\n"
     ]
    }
   ],
   "source": [
    "X = df_diabetes.drop(columns=['DiseaseProgression'])\n",
    "y = df_diabetes['DiseaseProgression']\n",
    "\n",
    "a4d = (X.shape, y.shape)\n",
    "\n",
    "print(f'(shape of X, shape of y) = {a4d}')\n"
   ]
  },
  {
   "cell_type": "code",
   "execution_count": 121,
   "metadata": {
    "deletable": false,
    "editable": false
   },
   "outputs": [
    {
     "data": {
      "text/html": [
       "<p><strong><pre style='display: inline;'>q4d</pre></strong> passed! 🌟</p>"
      ],
      "text/plain": [
       "q4d results: All test cases passed!"
      ]
     },
     "execution_count": 121,
     "metadata": {},
     "output_type": "execute_result"
    }
   ],
   "source": [
    "grader.check(\"q4d\")"
   ]
  },
  {
   "cell_type": "markdown",
   "metadata": {},
   "source": [
    "### Part E\n",
    "\n",
    "\n",
    "Now we will create two regression plots, the first for a univariate regression of just the most highly correlated feature, and\n",
    "then on the whole data set.  (We'll return to the issue of feature importance in later weeks.)\n",
    "\n",
    "- Create `X_uni` from `X` by selecting only the most highly correlated feature, and run a univariate regression with it against the target. \n",
    "- Assign `a4e` the **training MSE** by using the model to predict on `X_uni` and comparing the values with `y`. \n",
    "- As usual, round all floats to 4 decimal places.\n"
   ]
  },
  {
   "cell_type": "code",
   "execution_count": 122,
   "metadata": {
    "tags": []
   },
   "outputs": [
    {
     "name": "stdout",
     "output_type": "stream",
     "text": [
      "MSE on most correlated feature = 3890.4566\n"
     ]
    }
   ],
   "source": [
    "\n",
    "X_uni = X[[a4b]]\n",
    "model = LinearRegression()\n",
    "model.fit(X_uni, y)\n",
    "y_pred_E = model.predict(X_uni)\n",
    "\n",
    "a4e = round(mean_squared_error(y, y_pred_E), 4)\n",
    "\n",
    "print(f'MSE on most correlated feature = {a4e}')\n"
   ]
  },
  {
   "cell_type": "code",
   "execution_count": 123,
   "metadata": {
    "deletable": false,
    "editable": false
   },
   "outputs": [
    {
     "data": {
      "text/html": [
       "<p><strong><pre style='display: inline;'>q4e</pre></strong> passed! 💯</p>"
      ],
      "text/plain": [
       "q4e results: All test cases passed!"
      ]
     },
     "execution_count": 123,
     "metadata": {},
     "output_type": "execute_result"
    }
   ],
   "source": [
    "grader.check(\"q4e\")"
   ]
  },
  {
   "cell_type": "markdown",
   "metadata": {},
   "source": [
    "### Part F\n",
    "\n",
    "- Now run multiple regression on the entire `X` and set `a4f` to the **training MSE** on `X`, rounded to 4 decimal places.\n"
   ]
  },
  {
   "cell_type": "code",
   "execution_count": 124,
   "metadata": {
    "tags": []
   },
   "outputs": [
    {
     "name": "stdout",
     "output_type": "stream",
     "text": [
      "MSE on whole set = 2859.6963\n"
     ]
    }
   ],
   "source": [
    "model_F = LinearRegression()\n",
    "model_F.fit(X, y)\n",
    "y_pred_F = model_F.predict(X)\n",
    "\n",
    "a4f = round(mean_squared_error(y, y_pred_F), 4)\n",
    "\n",
    "print(f'MSE on whole set = {a4f}')\n"
   ]
  },
  {
   "cell_type": "code",
   "execution_count": 125,
   "metadata": {
    "deletable": false,
    "editable": false
   },
   "outputs": [
    {
     "data": {
      "text/html": [
       "<p><strong><pre style='display: inline;'>q4f</pre></strong> passed! 🚀</p>"
      ],
      "text/plain": [
       "q4f results: All test cases passed!"
      ]
     },
     "execution_count": 125,
     "metadata": {},
     "output_type": "execute_result"
    }
   ],
   "source": [
    "grader.check(\"q4f\")"
   ]
  },
  {
   "cell_type": "markdown",
   "metadata": {},
   "source": [
    "### Part G: Testing for Generalization\n",
    "\n",
    "We will spend the next two lessons thinking about how to evaluate  models for generalization, but let's try a naive strategy\n",
    "for now:  We will split the dataset into training and testing sets, and see how the model performs on  data it has never seen.\n",
    "The disadvantage of this is that we have less training data, of course!\n",
    "\n",
    "- Use `sklearn`'s `train_test_split` to shuffle `X` and split it into 80% training data and 20% testing data with `random_state=42`\n",
    "- Train a model `model_training` on the training set, and then test it on the same set to find the training MSE. \n",
    "- Assign the training MSE to `a4g`, with... you guessed it... 4 decimal points.  "
   ]
  },
  {
   "cell_type": "code",
   "execution_count": 126,
   "metadata": {
    "tags": []
   },
   "outputs": [
    {
     "name": "stdout",
     "output_type": "stream",
     "text": [
      "Training MSE = 2868.5497\n"
     ]
    }
   ],
   "source": [
    "X_train, X_test, y_train, y_test = train_test_split(X, y, test_size=0.2, random_state=42)\n",
    "\n",
    "model_G = LinearRegression()\n",
    "model_G.fit(X_train, y_train)\n",
    "y_pred_G = model_G.predict(X_train)\n",
    "\n",
    "a4g = round(mean_squared_error(y_train, y_pred_G), 4)\n",
    "\n",
    "print(f'Training MSE = {a4g}')\n"
   ]
  },
  {
   "cell_type": "code",
   "execution_count": 127,
   "metadata": {
    "deletable": false,
    "editable": false
   },
   "outputs": [
    {
     "data": {
      "text/html": [
       "<p><strong><pre style='display: inline;'>q4g</pre></strong> passed! 🌟</p>"
      ],
      "text/plain": [
       "q4g results: All test cases passed!"
      ]
     },
     "execution_count": 127,
     "metadata": {},
     "output_type": "execute_result"
    }
   ],
   "source": [
    "grader.check(\"q4g\")"
   ]
  },
  {
   "cell_type": "markdown",
   "metadata": {},
   "source": [
    "### Part H\n",
    "\n",
    "- Run the model created in Part G on the testing set to determine the test MSE. \n",
    "- Set `a4h` to the test MSE, to 4 decimal points."
   ]
  },
  {
   "cell_type": "code",
   "execution_count": 128,
   "metadata": {
    "tags": []
   },
   "outputs": [
    {
     "name": "stdout",
     "output_type": "stream",
     "text": [
      "MSE on most correlated feature = 2900.1936\n"
     ]
    }
   ],
   "source": [
    "y_test_H = model_G.predict(X_test)\n",
    "\n",
    "a4h = round(mean_squared_error(y_test, y_test_H), 4)\n",
    "\n",
    "\n",
    "print(f'MSE on most correlated feature = {a4h}')\n"
   ]
  },
  {
   "cell_type": "code",
   "execution_count": 129,
   "metadata": {
    "deletable": false,
    "editable": false
   },
   "outputs": [
    {
     "data": {
      "text/html": [
       "<p><strong><pre style='display: inline;'>q4h</pre></strong> passed! ✨</p>"
      ],
      "text/plain": [
       "q4h results: All test cases passed!"
      ]
     },
     "execution_count": 129,
     "metadata": {},
     "output_type": "execute_result"
    }
   ],
   "source": [
    "grader.check(\"q4h\")"
   ]
  },
  {
   "cell_type": "markdown",
   "metadata": {},
   "source": [
    "### Part I\n",
    "\n",
    "Now try setting the percentage of the test size to different values, perhaps 0.1, 0.2, 0.3, 0.4, and 0.5 and run the above\n",
    "cells and observe the training and testing MSEs. Then choose the best answer below. \n",
    "\n",
    "\n",
    "**How Does the Training‐Set Size Affect MSE?**\n",
    "\n",
    "1.  Both **training MSE** and **testing MSE** remain exactly the same regardless of how many points you use, provided you keep the `random_state` fixed.  \n",
    "2.  Both **training MSE** and **testing MSE** steadily converge to **zero** once you exceed a certain training‐set size threshold (e.g., 30 points).  \n",
    "3.  **Training MSE** usually goes **up** slightly with a bigger training set (it’s harder to fit more points perfectly), but **testing MSE** tends to go **down** (the model generalizes better with more data).  \n",
    "4.  Both **training MSE** and **testing MSE** decrease when the training set grows, because the model memorizes a larger volume of data and thus reduces all errors."
   ]
  },
  {
   "cell_type": "code",
   "execution_count": 130,
   "metadata": {
    "tags": []
   },
   "outputs": [],
   "source": [
    "\n",
    "a4i = 3           # your answer should one of 1, 2, 3, 4 \n"
   ]
  },
  {
   "cell_type": "code",
   "execution_count": 131,
   "metadata": {
    "deletable": false,
    "editable": false
   },
   "outputs": [
    {
     "data": {
      "text/html": [
       "<p><strong><pre style='display: inline;'>q4i</pre></strong> passed! 💯</p>"
      ],
      "text/plain": [
       "q4i results: All test cases passed!"
      ]
     },
     "execution_count": 131,
     "metadata": {},
     "output_type": "execute_result"
    }
   ],
   "source": [
    "grader.check(\"q4i\")"
   ]
  },
  {
   "cell_type": "markdown",
   "metadata": {},
   "source": [
    "### Part J\n",
    "\n",
    "How many hours did you spend completing this homework? Set `a4j` to a integer giving the answer to this question. Any integer will receive full credit in the autograder. "
   ]
  },
  {
   "cell_type": "code",
   "execution_count": 132,
   "metadata": {
    "tags": []
   },
   "outputs": [],
   "source": [
    "\n",
    "a4j = 7\n"
   ]
  },
  {
   "cell_type": "code",
   "execution_count": 133,
   "metadata": {
    "deletable": false,
    "editable": false
   },
   "outputs": [
    {
     "data": {
      "text/html": [
       "<p><strong><pre style='display: inline;'>q4j</pre></strong> passed! 🙌</p>"
      ],
      "text/plain": [
       "q4j results: All test cases passed!"
      ]
     },
     "execution_count": 133,
     "metadata": {},
     "output_type": "execute_result"
    }
   ],
   "source": [
    "grader.check(\"q4j\")"
   ]
  },
  {
   "cell_type": "markdown",
   "metadata": {},
   "source": [
    " "
   ]
  }
 ],
 "metadata": {
  "kernelspec": {
   "display_name": "Python 3",
   "language": "python",
   "name": "python3"
  },
  "language_info": {
   "codemirror_mode": {
    "name": "ipython",
    "version": 3
   },
   "file_extension": ".py",
   "mimetype": "text/x-python",
   "name": "python",
   "nbconvert_exporter": "python",
   "pygments_lexer": "ipython3",
   "version": "3.12.1"
  },
  "otter": {
   "OK_FORMAT": true,
   "tests": {
    "q1b": {
     "name": "q1b",
     "points": null,
     "suites": [
      {
       "cases": [
        {
         "code": ">>> # BEGIN TEST CONFIG\n>>> points: 2.5\n>>> hidden: True\n>>> # END TEST CONFIG\n>>> # HIDDEN\n>>> assert isclose(a1b[0],-1.9133, abs_tol=0.02) and isclose(a1b[1],1.5792, abs_tol=0.02)\n",
         "hidden": false,
         "locked": false
        }
       ],
       "scored": true,
       "setup": "",
       "teardown": "",
       "type": "doctest"
      }
     ]
    },
    "q1c": {
     "name": "q1c",
     "points": null,
     "suites": [
      {
       "cases": [
        {
         "code": ">>> # BEGIN TEST CONFIG\n>>> points: 2.5\n>>> hidden: True\n>>> # END TEST CONFIG\n>>> # HIDDEN\n>>> assert isclose(a1c,45.607, abs_tol=0.02)\n",
         "hidden": false,
         "locked": false
        }
       ],
       "scored": true,
       "setup": "",
       "teardown": "",
       "type": "doctest"
      }
     ]
    },
    "q2a": {
     "name": "q2a",
     "points": null,
     "suites": [
      {
       "cases": [
        {
         "code": ">>> # BEGIN TEST CONFIG\n>>> points: 2.5\n>>> hidden: True\n>>> # END TEST CONFIG\n>>> # HIDDEN\n>>> assert isclose(a2a,5.2857, abs_tol=0.02)\n",
         "hidden": false,
         "locked": false
        }
       ],
       "scored": true,
       "setup": "",
       "teardown": "",
       "type": "doctest"
      }
     ]
    },
    "q2b": {
     "name": "q2b",
     "points": null,
     "suites": [
      {
       "cases": [
        {
         "code": ">>> # BEGIN TEST CONFIG\n>>> points: 2.5\n>>> hidden: True\n>>> # END TEST CONFIG\n>>> # HIDDEN\n>>> assert isclose(a2b,45.7125, abs_tol=0.02)\n",
         "hidden": false,
         "locked": false
        }
       ],
       "scored": true,
       "setup": "",
       "teardown": "",
       "type": "doctest"
      }
     ]
    },
    "q2c": {
     "name": "q2c",
     "points": null,
     "suites": [
      {
       "cases": [
        {
         "code": ">>> # BEGIN TEST CONFIG\n>>> points: 2.5\n>>> hidden: True\n>>> # END TEST CONFIG\n>>> # HIDDEN\n>>> assert isclose(a2c,436.913, abs_tol=0.02)\n",
         "hidden": false,
         "locked": false
        }
       ],
       "scored": true,
       "setup": "",
       "teardown": "",
       "type": "doctest"
      }
     ]
    },
    "q2d": {
     "name": "q2d",
     "points": null,
     "suites": [
      {
       "cases": [
        {
         "code": ">>> # BEGIN TEST CONFIG\n>>> points: 2.5\n>>> hidden: True\n>>> # END TEST CONFIG\n>>> # HIDDEN\n>>> assert isclose(a2d,0.8072, abs_tol=0.02)\n",
         "hidden": false,
         "locked": false
        }
       ],
       "scored": true,
       "setup": "",
       "teardown": "",
       "type": "doctest"
      }
     ]
    },
    "q3b": {
     "name": "q3b",
     "points": null,
     "suites": [
      {
       "cases": [
        {
         "code": ">>> # BEGIN TEST CONFIG\n>>> points: 2.5\n>>> hidden: True\n>>> # END TEST CONFIG\n>>> # HIDDEN\n>>> assert isclose(a3b[0],-0.6052, abs_tol=0.02) and isclose(a3b[1],-1.3685, abs_tol=0.02)\n",
         "hidden": false,
         "locked": false
        }
       ],
       "scored": true,
       "setup": "",
       "teardown": "",
       "type": "doctest"
      }
     ]
    },
    "q3d": {
     "name": "q3d",
     "points": null,
     "suites": [
      {
       "cases": [
        {
         "code": ">>> # BEGIN TEST CONFIG\n>>> points: 2.5\n>>> hidden: True\n>>> # END TEST CONFIG\n>>> # HIDDEN\n>>> assert isclose(a3d,245.9093, abs_tol=0.02)\n",
         "hidden": false,
         "locked": false
        }
       ],
       "scored": true,
       "setup": "",
       "teardown": "",
       "type": "doctest"
      }
     ]
    },
    "q3e1": {
     "name": "q3e1",
     "points": null,
     "suites": [
      {
       "cases": [
        {
         "code": ">>> # BEGIN TEST CONFIG\n>>> points: 2.5\n>>> hidden: True\n>>> # END TEST CONFIG\n>>> # HIDDEN\n>>> assert a3e1 == 2\n",
         "hidden": false,
         "locked": false
        }
       ],
       "scored": true,
       "setup": "",
       "teardown": "",
       "type": "doctest"
      }
     ]
    },
    "q3e2": {
     "name": "q3e2",
     "points": null,
     "suites": [
      {
       "cases": [
        {
         "code": ">>> # BEGIN TEST CONFIG\n>>> points: 2.5\n>>> hidden: True\n>>> # END TEST CONFIG\n>>> # HIDDEN\n>>> assert a3e2 == 1\n",
         "hidden": false,
         "locked": false
        }
       ],
       "scored": true,
       "setup": "",
       "teardown": "",
       "type": "doctest"
      }
     ]
    },
    "q3e3": {
     "name": "q3e3",
     "points": null,
     "suites": [
      {
       "cases": [
        {
         "code": ">>> # BEGIN TEST CONFIG\n>>> points: 2.5\n>>> hidden: True\n>>> # END TEST CONFIG\n>>> # HIDDEN\n>>> assert a3e3 == 4\n",
         "hidden": false,
         "locked": false
        }
       ],
       "scored": true,
       "setup": "",
       "teardown": "",
       "type": "doctest"
      }
     ]
    },
    "q4b": {
     "name": "q4b",
     "points": null,
     "suites": [
      {
       "cases": [
        {
         "code": ">>> # BEGIN TEST CONFIG\n>>> points: 2.5\n>>> hidden: True\n>>> # END TEST CONFIG\n>>> # HIDDEN\n>>> assert a4b == 'bmi'\n",
         "hidden": false,
         "locked": false
        }
       ],
       "scored": true,
       "setup": "",
       "teardown": "",
       "type": "doctest"
      }
     ]
    },
    "q4c": {
     "name": "q4c",
     "points": null,
     "suites": [
      {
       "cases": [
        {
         "code": ">>> # BEGIN TEST CONFIG\n>>> points: 2.5\n>>> hidden: True\n>>> # END TEST CONFIG\n>>> # HIDDEN\n>>> assert len(a4c) == 11 and (a4c == np.array(['age','gender','bmi','bp','s1','s2','s3','s4','s5','s6','DiseaseProgression'])).all()\n",
         "hidden": false,
         "locked": false
        }
       ],
       "scored": true,
       "setup": "",
       "teardown": "",
       "type": "doctest"
      }
     ]
    },
    "q4d": {
     "name": "q4d",
     "points": null,
     "suites": [
      {
       "cases": [
        {
         "code": ">>> # BEGIN TEST CONFIG\n>>> points: 2.5\n>>> hidden: True\n>>> # END TEST CONFIG\n>>> # HIDDEN\n>>> assert a4d[0] == (442,10) and a4d[1][0] == 442\n",
         "hidden": false,
         "locked": false
        }
       ],
       "scored": true,
       "setup": "",
       "teardown": "",
       "type": "doctest"
      }
     ]
    },
    "q4e": {
     "name": "q4e",
     "points": null,
     "suites": [
      {
       "cases": [
        {
         "code": ">>> # BEGIN TEST CONFIG\n>>> points: 2.5\n>>> hidden: True\n>>> # END TEST CONFIG\n>>> # HIDDEN\n>>> assert isclose(a4e,3890.4566,abs_tol=0.02)\n",
         "hidden": false,
         "locked": false
        }
       ],
       "scored": true,
       "setup": "",
       "teardown": "",
       "type": "doctest"
      }
     ]
    },
    "q4f": {
     "name": "q4f",
     "points": null,
     "suites": [
      {
       "cases": [
        {
         "code": ">>> # BEGIN TEST CONFIG\n>>> points: 2.5\n>>> hidden: True\n>>> # END TEST CONFIG\n>>> # HIDDEN\n>>> assert isclose(a4f,2859.6963,abs_tol=0.02)\n",
         "hidden": false,
         "locked": false
        }
       ],
       "scored": true,
       "setup": "",
       "teardown": "",
       "type": "doctest"
      }
     ]
    },
    "q4g": {
     "name": "q4g",
     "points": null,
     "suites": [
      {
       "cases": [
        {
         "code": ">>> # BEGIN TEST CONFIG\n>>> points: 2.5\n>>> hidden: True\n>>> # END TEST CONFIG\n>>> # HIDDEN\n>>> assert isclose(a4g,2868.5497,abs_tol=0.02)\n",
         "hidden": false,
         "locked": false
        }
       ],
       "scored": true,
       "setup": "",
       "teardown": "",
       "type": "doctest"
      }
     ]
    },
    "q4h": {
     "name": "q4h",
     "points": null,
     "suites": [
      {
       "cases": [
        {
         "code": ">>> # BEGIN TEST CONFIG\n>>> points: 2.5\n>>> hidden: True\n>>> # END TEST CONFIG\n>>> # HIDDEN\n>>> assert isclose(a4h,2900.1936,abs_tol=0.02)\n",
         "hidden": false,
         "locked": false
        }
       ],
       "scored": true,
       "setup": "",
       "teardown": "",
       "type": "doctest"
      }
     ]
    },
    "q4i": {
     "name": "q4i",
     "points": null,
     "suites": [
      {
       "cases": [
        {
         "code": ">>> # BEGIN TEST CONFIG\n>>> points: 2.5\n>>> hidden: True\n>>> # END TEST CONFIG\n>>> # HIDDEN\n>>> assert a4i == 3\n",
         "hidden": false,
         "locked": false
        }
       ],
       "scored": true,
       "setup": "",
       "teardown": "",
       "type": "doctest"
      }
     ]
    },
    "q4j": {
     "name": "q4j",
     "points": null,
     "suites": [
      {
       "cases": [
        {
         "code": ">>> # BEGIN TEST CONFIG\n>>> points: 2.5 \n>>> hidden: True\n>>> # END TEST CONFIG\n>>> # HIDDEN\n>>> assert True\n",
         "hidden": false,
         "locked": false
        }
       ],
       "scored": true,
       "setup": "",
       "teardown": "",
       "type": "doctest"
      }
     ]
    }
   }
  }
 },
 "nbformat": 4,
 "nbformat_minor": 4
}
